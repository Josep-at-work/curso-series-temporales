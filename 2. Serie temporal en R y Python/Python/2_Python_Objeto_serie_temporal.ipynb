{
  "nbformat": 4,
  "nbformat_minor": 0,
  "metadata": {
    "kernelspec": {
      "display_name": "Python 3",
      "language": "python",
      "name": "python3"
    },
    "language_info": {
      "codemirror_mode": {
        "name": "ipython",
        "version": 3
      },
      "file_extension": ".py",
      "mimetype": "text/x-python",
      "name": "python",
      "nbconvert_exporter": "python",
      "pygments_lexer": "ipython3",
      "version": "3.6.7"
    },
    "colab": {
      "name": "2 Python Objeto serie temporal.ipynb",
      "provenance": [],
      "collapsed_sections": [],
      "toc_visible": true,
      "include_colab_link": true
    }
  },
  "cells": [
    {
      "cell_type": "markdown",
      "metadata": {
        "id": "view-in-github",
        "colab_type": "text"
      },
      "source": [
        "<a href=\"https://colab.research.google.com/github/Josep-at-work/curso-series-temporales/blob/master/2.%20Serie%20temporal%20en%20R%20y%20Python/Python/2_Python_Objeto_serie_temporal.ipynb\" target=\"_parent\"><img src=\"https://colab.research.google.com/assets/colab-badge.svg\" alt=\"Open In Colab\"/></a>"
      ]
    },
    {
      "cell_type": "markdown",
      "metadata": {
        "id": "XUpskzy8e-wg"
      },
      "source": [
        "### Importing the Packages"
      ]
    },
    {
      "cell_type": "code",
      "metadata": {
        "id": "YolQSmS7e-wh"
      },
      "source": [
        "import pandas as pd\n",
        "import numpy as np"
      ],
      "execution_count": 4,
      "outputs": []
    },
    {
      "cell_type": "markdown",
      "metadata": {
        "id": "AxZVRZ95e-wl"
      },
      "source": [
        "### Importing the data "
      ]
    },
    {
      "cell_type": "code",
      "metadata": {
        "id": "jKQ1KFsgiSNU"
      },
      "source": [
        "from google.colab import drive\n",
        "drive.mount('/content/drive')"
      ],
      "execution_count": null,
      "outputs": []
    },
    {
      "cell_type": "code",
      "metadata": {
        "id": "ZHmWo-qee-wl"
      },
      "source": [
        "# raw_csv_data = pd.read_csv(\"Index2018.csv\") \n",
        "raw_csv_data = pd.read_csv(\"/content/drive/MyDrive/Udemy/Series Temporales/Data/telemetry.csv\")\n",
        "df_comp = raw_csv_data.copy() "
      ],
      "execution_count": 24,
      "outputs": []
    },
    {
      "cell_type": "markdown",
      "metadata": {
        "id": "F2oxJOQue-wo"
      },
      "source": [
        "### Lenght of the Time Period"
      ]
    },
    {
      "cell_type": "code",
      "metadata": {
        "scrolled": true,
        "id": "8TgEirk1e-wo",
        "colab": {
          "base_uri": "https://localhost:8080/",
          "height": 284
        },
        "outputId": "e5f8dbf1-9239-415e-d4c8-7ed4f978c862"
      },
      "source": [
        "df_comp.describe() #only stats for numeric variables"
      ],
      "execution_count": 25,
      "outputs": [
        {
          "output_type": "execute_result",
          "data": {
            "text/html": [
              "<div>\n",
              "<style scoped>\n",
              "    .dataframe tbody tr th:only-of-type {\n",
              "        vertical-align: middle;\n",
              "    }\n",
              "\n",
              "    .dataframe tbody tr th {\n",
              "        vertical-align: top;\n",
              "    }\n",
              "\n",
              "    .dataframe thead th {\n",
              "        text-align: right;\n",
              "    }\n",
              "</style>\n",
              "<table border=\"1\" class=\"dataframe\">\n",
              "  <thead>\n",
              "    <tr style=\"text-align: right;\">\n",
              "      <th></th>\n",
              "      <th>machineID</th>\n",
              "      <th>volt</th>\n",
              "      <th>rotate</th>\n",
              "      <th>pressure</th>\n",
              "      <th>vibration</th>\n",
              "    </tr>\n",
              "  </thead>\n",
              "  <tbody>\n",
              "    <tr>\n",
              "      <th>count</th>\n",
              "      <td>876100.000000</td>\n",
              "      <td>876100.000000</td>\n",
              "      <td>876100.000000</td>\n",
              "      <td>876100.000000</td>\n",
              "      <td>876100.000000</td>\n",
              "    </tr>\n",
              "    <tr>\n",
              "      <th>mean</th>\n",
              "      <td>50.500000</td>\n",
              "      <td>170.777736</td>\n",
              "      <td>446.605119</td>\n",
              "      <td>100.858668</td>\n",
              "      <td>40.385007</td>\n",
              "    </tr>\n",
              "    <tr>\n",
              "      <th>std</th>\n",
              "      <td>28.866087</td>\n",
              "      <td>15.509114</td>\n",
              "      <td>52.673886</td>\n",
              "      <td>11.048679</td>\n",
              "      <td>5.370361</td>\n",
              "    </tr>\n",
              "    <tr>\n",
              "      <th>min</th>\n",
              "      <td>1.000000</td>\n",
              "      <td>97.333604</td>\n",
              "      <td>138.432075</td>\n",
              "      <td>51.237106</td>\n",
              "      <td>14.877054</td>\n",
              "    </tr>\n",
              "    <tr>\n",
              "      <th>25%</th>\n",
              "      <td>25.750000</td>\n",
              "      <td>160.304927</td>\n",
              "      <td>412.305714</td>\n",
              "      <td>93.498181</td>\n",
              "      <td>36.777299</td>\n",
              "    </tr>\n",
              "    <tr>\n",
              "      <th>50%</th>\n",
              "      <td>50.500000</td>\n",
              "      <td>170.607338</td>\n",
              "      <td>447.558150</td>\n",
              "      <td>100.425559</td>\n",
              "      <td>40.237247</td>\n",
              "    </tr>\n",
              "    <tr>\n",
              "      <th>75%</th>\n",
              "      <td>75.250000</td>\n",
              "      <td>181.004493</td>\n",
              "      <td>482.176600</td>\n",
              "      <td>107.555231</td>\n",
              "      <td>43.784938</td>\n",
              "    </tr>\n",
              "    <tr>\n",
              "      <th>max</th>\n",
              "      <td>100.000000</td>\n",
              "      <td>255.124717</td>\n",
              "      <td>695.020984</td>\n",
              "      <td>185.951998</td>\n",
              "      <td>76.791072</td>\n",
              "    </tr>\n",
              "  </tbody>\n",
              "</table>\n",
              "</div>"
            ],
            "text/plain": [
              "           machineID           volt  ...       pressure      vibration\n",
              "count  876100.000000  876100.000000  ...  876100.000000  876100.000000\n",
              "mean       50.500000     170.777736  ...     100.858668      40.385007\n",
              "std        28.866087      15.509114  ...      11.048679       5.370361\n",
              "min         1.000000      97.333604  ...      51.237106      14.877054\n",
              "25%        25.750000     160.304927  ...      93.498181      36.777299\n",
              "50%        50.500000     170.607338  ...     100.425559      40.237247\n",
              "75%        75.250000     181.004493  ...     107.555231      43.784938\n",
              "max       100.000000     255.124717  ...     185.951998      76.791072\n",
              "\n",
              "[8 rows x 5 columns]"
            ]
          },
          "metadata": {
            "tags": []
          },
          "execution_count": 25
        }
      ]
    },
    {
      "cell_type": "code",
      "metadata": {
        "id": "i0ang3fRe-wt",
        "colab": {
          "base_uri": "https://localhost:8080/",
          "height": 195
        },
        "outputId": "06849c79-e07d-4302-92cc-765a125802bc"
      },
      "source": [
        "df_comp.head()"
      ],
      "execution_count": 8,
      "outputs": [
        {
          "output_type": "execute_result",
          "data": {
            "text/html": [
              "<div>\n",
              "<style scoped>\n",
              "    .dataframe tbody tr th:only-of-type {\n",
              "        vertical-align: middle;\n",
              "    }\n",
              "\n",
              "    .dataframe tbody tr th {\n",
              "        vertical-align: top;\n",
              "    }\n",
              "\n",
              "    .dataframe thead th {\n",
              "        text-align: right;\n",
              "    }\n",
              "</style>\n",
              "<table border=\"1\" class=\"dataframe\">\n",
              "  <thead>\n",
              "    <tr style=\"text-align: right;\">\n",
              "      <th></th>\n",
              "      <th>datetime</th>\n",
              "      <th>machineID</th>\n",
              "      <th>volt</th>\n",
              "      <th>rotate</th>\n",
              "      <th>pressure</th>\n",
              "      <th>vibration</th>\n",
              "    </tr>\n",
              "  </thead>\n",
              "  <tbody>\n",
              "    <tr>\n",
              "      <th>0</th>\n",
              "      <td>1/1/2015 6:00:00 AM</td>\n",
              "      <td>1</td>\n",
              "      <td>176.217853</td>\n",
              "      <td>418.504078</td>\n",
              "      <td>113.077935</td>\n",
              "      <td>45.087686</td>\n",
              "    </tr>\n",
              "    <tr>\n",
              "      <th>1</th>\n",
              "      <td>1/1/2015 7:00:00 AM</td>\n",
              "      <td>1</td>\n",
              "      <td>162.879223</td>\n",
              "      <td>402.747490</td>\n",
              "      <td>95.460525</td>\n",
              "      <td>43.413973</td>\n",
              "    </tr>\n",
              "    <tr>\n",
              "      <th>2</th>\n",
              "      <td>1/1/2015 8:00:00 AM</td>\n",
              "      <td>1</td>\n",
              "      <td>170.989902</td>\n",
              "      <td>527.349825</td>\n",
              "      <td>75.237905</td>\n",
              "      <td>34.178847</td>\n",
              "    </tr>\n",
              "    <tr>\n",
              "      <th>3</th>\n",
              "      <td>1/1/2015 9:00:00 AM</td>\n",
              "      <td>1</td>\n",
              "      <td>162.462833</td>\n",
              "      <td>346.149335</td>\n",
              "      <td>109.248561</td>\n",
              "      <td>41.122144</td>\n",
              "    </tr>\n",
              "    <tr>\n",
              "      <th>4</th>\n",
              "      <td>1/1/2015 10:00:00 AM</td>\n",
              "      <td>1</td>\n",
              "      <td>157.610021</td>\n",
              "      <td>435.376873</td>\n",
              "      <td>111.886648</td>\n",
              "      <td>25.990511</td>\n",
              "    </tr>\n",
              "  </tbody>\n",
              "</table>\n",
              "</div>"
            ],
            "text/plain": [
              "               datetime  machineID  ...    pressure  vibration\n",
              "0   1/1/2015 6:00:00 AM          1  ...  113.077935  45.087686\n",
              "1   1/1/2015 7:00:00 AM          1  ...   95.460525  43.413973\n",
              "2   1/1/2015 8:00:00 AM          1  ...   75.237905  34.178847\n",
              "3   1/1/2015 9:00:00 AM          1  ...  109.248561  41.122144\n",
              "4  1/1/2015 10:00:00 AM          1  ...  111.886648  25.990511\n",
              "\n",
              "[5 rows x 6 columns]"
            ]
          },
          "metadata": {
            "tags": []
          },
          "execution_count": 8
        }
      ]
    },
    {
      "cell_type": "code",
      "metadata": {
        "scrolled": false,
        "id": "edw6EMKZe-wv",
        "colab": {
          "base_uri": "https://localhost:8080/"
        },
        "outputId": "2602f8f0-7fb9-41ac-fa4c-c3a9fd8c5ae3"
      },
      "source": [
        "df_comp.datetime.describe() "
      ],
      "execution_count": 9,
      "outputs": [
        {
          "output_type": "execute_result",
          "data": {
            "text/plain": [
              "count                     876100\n",
              "unique                      8761\n",
              "top       10/27/2015 11:00:00 PM\n",
              "freq                         100\n",
              "Name: datetime, dtype: object"
            ]
          },
          "metadata": {
            "tags": []
          },
          "execution_count": 9
        }
      ]
    },
    {
      "cell_type": "markdown",
      "metadata": {
        "id": "0eYGS2nKe-wy"
      },
      "source": [
        "### From Text to Date"
      ]
    },
    {
      "cell_type": "code",
      "metadata": {
        "id": "UiOxl68oe-wy"
      },
      "source": [
        "df_comp.datetime = pd.to_datetime(df_comp.datetime, dayfirst = True)"
      ],
      "execution_count": 26,
      "outputs": []
    },
    {
      "cell_type": "code",
      "metadata": {
        "scrolled": true,
        "id": "UCcXHDODe-w2",
        "colab": {
          "base_uri": "https://localhost:8080/",
          "height": 195
        },
        "outputId": "647cd1d3-0cfe-484f-acbb-81ed114b978e"
      },
      "source": [
        "df_comp.head()"
      ],
      "execution_count": 12,
      "outputs": [
        {
          "output_type": "execute_result",
          "data": {
            "text/html": [
              "<div>\n",
              "<style scoped>\n",
              "    .dataframe tbody tr th:only-of-type {\n",
              "        vertical-align: middle;\n",
              "    }\n",
              "\n",
              "    .dataframe tbody tr th {\n",
              "        vertical-align: top;\n",
              "    }\n",
              "\n",
              "    .dataframe thead th {\n",
              "        text-align: right;\n",
              "    }\n",
              "</style>\n",
              "<table border=\"1\" class=\"dataframe\">\n",
              "  <thead>\n",
              "    <tr style=\"text-align: right;\">\n",
              "      <th></th>\n",
              "      <th>datetime</th>\n",
              "      <th>machineID</th>\n",
              "      <th>volt</th>\n",
              "      <th>rotate</th>\n",
              "      <th>pressure</th>\n",
              "      <th>vibration</th>\n",
              "    </tr>\n",
              "  </thead>\n",
              "  <tbody>\n",
              "    <tr>\n",
              "      <th>0</th>\n",
              "      <td>2015-01-01 06:00:00</td>\n",
              "      <td>1</td>\n",
              "      <td>176.217853</td>\n",
              "      <td>418.504078</td>\n",
              "      <td>113.077935</td>\n",
              "      <td>45.087686</td>\n",
              "    </tr>\n",
              "    <tr>\n",
              "      <th>1</th>\n",
              "      <td>2015-01-01 07:00:00</td>\n",
              "      <td>1</td>\n",
              "      <td>162.879223</td>\n",
              "      <td>402.747490</td>\n",
              "      <td>95.460525</td>\n",
              "      <td>43.413973</td>\n",
              "    </tr>\n",
              "    <tr>\n",
              "      <th>2</th>\n",
              "      <td>2015-01-01 08:00:00</td>\n",
              "      <td>1</td>\n",
              "      <td>170.989902</td>\n",
              "      <td>527.349825</td>\n",
              "      <td>75.237905</td>\n",
              "      <td>34.178847</td>\n",
              "    </tr>\n",
              "    <tr>\n",
              "      <th>3</th>\n",
              "      <td>2015-01-01 09:00:00</td>\n",
              "      <td>1</td>\n",
              "      <td>162.462833</td>\n",
              "      <td>346.149335</td>\n",
              "      <td>109.248561</td>\n",
              "      <td>41.122144</td>\n",
              "    </tr>\n",
              "    <tr>\n",
              "      <th>4</th>\n",
              "      <td>2015-01-01 10:00:00</td>\n",
              "      <td>1</td>\n",
              "      <td>157.610021</td>\n",
              "      <td>435.376873</td>\n",
              "      <td>111.886648</td>\n",
              "      <td>25.990511</td>\n",
              "    </tr>\n",
              "  </tbody>\n",
              "</table>\n",
              "</div>"
            ],
            "text/plain": [
              "             datetime  machineID        volt      rotate    pressure  vibration\n",
              "0 2015-01-01 06:00:00          1  176.217853  418.504078  113.077935  45.087686\n",
              "1 2015-01-01 07:00:00          1  162.879223  402.747490   95.460525  43.413973\n",
              "2 2015-01-01 08:00:00          1  170.989902  527.349825   75.237905  34.178847\n",
              "3 2015-01-01 09:00:00          1  162.462833  346.149335  109.248561  41.122144\n",
              "4 2015-01-01 10:00:00          1  157.610021  435.376873  111.886648  25.990511"
            ]
          },
          "metadata": {
            "tags": []
          },
          "execution_count": 12
        }
      ]
    },
    {
      "cell_type": "code",
      "metadata": {
        "id": "9UbTMJDQe-w4",
        "colab": {
          "base_uri": "https://localhost:8080/"
        },
        "outputId": "1b5894f3-0c84-4841-c5b0-ae472337fe9e"
      },
      "source": [
        "df_comp.datetime.describe(datetime_is_numeric=True)"
      ],
      "execution_count": 15,
      "outputs": [
        {
          "output_type": "execute_result",
          "data": {
            "text/plain": [
              "count                           876100\n",
              "mean     2015-07-02 17:59:59.999987968\n",
              "min                2015-01-01 06:00:00\n",
              "25%                2015-04-02 12:00:00\n",
              "50%                2015-07-02 18:00:00\n",
              "75%                2015-10-02 00:00:00\n",
              "max                2016-01-01 06:00:00\n",
              "Name: datetime, dtype: object"
            ]
          },
          "metadata": {
            "tags": []
          },
          "execution_count": 15
        }
      ]
    },
    {
      "cell_type": "markdown",
      "metadata": {
        "id": "TVO_YkOkkZ9R"
      },
      "source": [
        "Los datos registrados completan un año del 1 de enero del 2015 al 2016."
      ]
    },
    {
      "cell_type": "markdown",
      "metadata": {
        "id": "FrSqz8bde-w6"
      },
      "source": [
        "### Setting the Index"
      ]
    },
    {
      "cell_type": "markdown",
      "metadata": {
        "id": "Ty0NOvdvmOmQ"
      },
      "source": [
        "This dataset contains values for 100 machines registered at the same time. Thus, in order not to duplicate indexes, I've selected the values for the first machine."
      ]
    },
    {
      "cell_type": "code",
      "metadata": {
        "id": "xZYrVdyhe-w9"
      },
      "source": [
        "m1 = df_comp[df_comp.machineID == 1]\n",
        "m1.set_index(\"datetime\", inplace=True)"
      ],
      "execution_count": 27,
      "outputs": []
    },
    {
      "cell_type": "code",
      "metadata": {
        "id": "IJls4BADe-xB",
        "colab": {
          "base_uri": "https://localhost:8080/",
          "height": 225
        },
        "outputId": "99a8af9d-6834-423b-cae0-bee7fe7d4781"
      },
      "source": [
        "m1.head()"
      ],
      "execution_count": 28,
      "outputs": [
        {
          "output_type": "execute_result",
          "data": {
            "text/html": [
              "<div>\n",
              "<style scoped>\n",
              "    .dataframe tbody tr th:only-of-type {\n",
              "        vertical-align: middle;\n",
              "    }\n",
              "\n",
              "    .dataframe tbody tr th {\n",
              "        vertical-align: top;\n",
              "    }\n",
              "\n",
              "    .dataframe thead th {\n",
              "        text-align: right;\n",
              "    }\n",
              "</style>\n",
              "<table border=\"1\" class=\"dataframe\">\n",
              "  <thead>\n",
              "    <tr style=\"text-align: right;\">\n",
              "      <th></th>\n",
              "      <th>machineID</th>\n",
              "      <th>volt</th>\n",
              "      <th>rotate</th>\n",
              "      <th>pressure</th>\n",
              "      <th>vibration</th>\n",
              "    </tr>\n",
              "    <tr>\n",
              "      <th>datetime</th>\n",
              "      <th></th>\n",
              "      <th></th>\n",
              "      <th></th>\n",
              "      <th></th>\n",
              "      <th></th>\n",
              "    </tr>\n",
              "  </thead>\n",
              "  <tbody>\n",
              "    <tr>\n",
              "      <th>2015-01-01 06:00:00</th>\n",
              "      <td>1</td>\n",
              "      <td>176.217853</td>\n",
              "      <td>418.504078</td>\n",
              "      <td>113.077935</td>\n",
              "      <td>45.087686</td>\n",
              "    </tr>\n",
              "    <tr>\n",
              "      <th>2015-01-01 07:00:00</th>\n",
              "      <td>1</td>\n",
              "      <td>162.879223</td>\n",
              "      <td>402.747490</td>\n",
              "      <td>95.460525</td>\n",
              "      <td>43.413973</td>\n",
              "    </tr>\n",
              "    <tr>\n",
              "      <th>2015-01-01 08:00:00</th>\n",
              "      <td>1</td>\n",
              "      <td>170.989902</td>\n",
              "      <td>527.349825</td>\n",
              "      <td>75.237905</td>\n",
              "      <td>34.178847</td>\n",
              "    </tr>\n",
              "    <tr>\n",
              "      <th>2015-01-01 09:00:00</th>\n",
              "      <td>1</td>\n",
              "      <td>162.462833</td>\n",
              "      <td>346.149335</td>\n",
              "      <td>109.248561</td>\n",
              "      <td>41.122144</td>\n",
              "    </tr>\n",
              "    <tr>\n",
              "      <th>2015-01-01 10:00:00</th>\n",
              "      <td>1</td>\n",
              "      <td>157.610021</td>\n",
              "      <td>435.376873</td>\n",
              "      <td>111.886648</td>\n",
              "      <td>25.990511</td>\n",
              "    </tr>\n",
              "  </tbody>\n",
              "</table>\n",
              "</div>"
            ],
            "text/plain": [
              "                     machineID        volt      rotate    pressure  vibration\n",
              "datetime                                                                     \n",
              "2015-01-01 06:00:00          1  176.217853  418.504078  113.077935  45.087686\n",
              "2015-01-01 07:00:00          1  162.879223  402.747490   95.460525  43.413973\n",
              "2015-01-01 08:00:00          1  170.989902  527.349825   75.237905  34.178847\n",
              "2015-01-01 09:00:00          1  162.462833  346.149335  109.248561  41.122144\n",
              "2015-01-01 10:00:00          1  157.610021  435.376873  111.886648  25.990511"
            ]
          },
          "metadata": {
            "tags": []
          },
          "execution_count": 28
        }
      ]
    },
    {
      "cell_type": "code",
      "metadata": {
        "id": "ANc7_vw1e-xH"
      },
      "source": [
        "#df_comp.date.describe() #Expect to get an error message because we no longer have a \"date\" column since it is the index"
      ],
      "execution_count": null,
      "outputs": []
    },
    {
      "cell_type": "markdown",
      "metadata": {
        "id": "8S_iqshWe-xJ"
      },
      "source": [
        "### Setting the Desired Frequency"
      ]
    },
    {
      "cell_type": "markdown",
      "metadata": {
        "id": "YfUavyDYo3Pr"
      },
      "source": [
        "asfreq adds the missing datetime values in order to have a persistent frequency. If a new value is added, the values of the feature will be NaN.\n",
        "\n",
        "In this case the sensor registered for every hour, so no problem."
      ]
    },
    {
      "cell_type": "code",
      "metadata": {
        "id": "R_Jb6225e-xK"
      },
      "source": [
        "m1 = m1.asfreq('h') # h(hourly), w(weekly), d(daily), m(monthly), a(anual), b(business dates)\n",
        "\n",
        "# m1[m1.index.duplicated()] #Now, there are not duplicated indexes!"
      ],
      "execution_count": 32,
      "outputs": []
    },
    {
      "cell_type": "code",
      "metadata": {
        "scrolled": true,
        "id": "LlDcmvjGe-xL",
        "colab": {
          "base_uri": "https://localhost:8080/",
          "height": 225
        },
        "outputId": "a0a4450f-ea64-4db9-9dc7-880467c3c2b7"
      },
      "source": [
        "m1.head()"
      ],
      "execution_count": 33,
      "outputs": [
        {
          "output_type": "execute_result",
          "data": {
            "text/html": [
              "<div>\n",
              "<style scoped>\n",
              "    .dataframe tbody tr th:only-of-type {\n",
              "        vertical-align: middle;\n",
              "    }\n",
              "\n",
              "    .dataframe tbody tr th {\n",
              "        vertical-align: top;\n",
              "    }\n",
              "\n",
              "    .dataframe thead th {\n",
              "        text-align: right;\n",
              "    }\n",
              "</style>\n",
              "<table border=\"1\" class=\"dataframe\">\n",
              "  <thead>\n",
              "    <tr style=\"text-align: right;\">\n",
              "      <th></th>\n",
              "      <th>machineID</th>\n",
              "      <th>volt</th>\n",
              "      <th>rotate</th>\n",
              "      <th>pressure</th>\n",
              "      <th>vibration</th>\n",
              "    </tr>\n",
              "    <tr>\n",
              "      <th>datetime</th>\n",
              "      <th></th>\n",
              "      <th></th>\n",
              "      <th></th>\n",
              "      <th></th>\n",
              "      <th></th>\n",
              "    </tr>\n",
              "  </thead>\n",
              "  <tbody>\n",
              "    <tr>\n",
              "      <th>2015-01-01 06:00:00</th>\n",
              "      <td>1</td>\n",
              "      <td>176.217853</td>\n",
              "      <td>418.504078</td>\n",
              "      <td>113.077935</td>\n",
              "      <td>45.087686</td>\n",
              "    </tr>\n",
              "    <tr>\n",
              "      <th>2015-01-01 07:00:00</th>\n",
              "      <td>1</td>\n",
              "      <td>162.879223</td>\n",
              "      <td>402.747490</td>\n",
              "      <td>95.460525</td>\n",
              "      <td>43.413973</td>\n",
              "    </tr>\n",
              "    <tr>\n",
              "      <th>2015-01-01 08:00:00</th>\n",
              "      <td>1</td>\n",
              "      <td>170.989902</td>\n",
              "      <td>527.349825</td>\n",
              "      <td>75.237905</td>\n",
              "      <td>34.178847</td>\n",
              "    </tr>\n",
              "    <tr>\n",
              "      <th>2015-01-01 09:00:00</th>\n",
              "      <td>1</td>\n",
              "      <td>162.462833</td>\n",
              "      <td>346.149335</td>\n",
              "      <td>109.248561</td>\n",
              "      <td>41.122144</td>\n",
              "    </tr>\n",
              "    <tr>\n",
              "      <th>2015-01-01 10:00:00</th>\n",
              "      <td>1</td>\n",
              "      <td>157.610021</td>\n",
              "      <td>435.376873</td>\n",
              "      <td>111.886648</td>\n",
              "      <td>25.990511</td>\n",
              "    </tr>\n",
              "  </tbody>\n",
              "</table>\n",
              "</div>"
            ],
            "text/plain": [
              "                     machineID        volt      rotate    pressure  vibration\n",
              "datetime                                                                     \n",
              "2015-01-01 06:00:00          1  176.217853  418.504078  113.077935  45.087686\n",
              "2015-01-01 07:00:00          1  162.879223  402.747490   95.460525  43.413973\n",
              "2015-01-01 08:00:00          1  170.989902  527.349825   75.237905  34.178847\n",
              "2015-01-01 09:00:00          1  162.462833  346.149335  109.248561  41.122144\n",
              "2015-01-01 10:00:00          1  157.610021  435.376873  111.886648  25.990511"
            ]
          },
          "metadata": {
            "tags": []
          },
          "execution_count": 33
        }
      ]
    },
    {
      "cell_type": "code",
      "metadata": {
        "id": "f4Rl2glBe-xO",
        "colab": {
          "base_uri": "https://localhost:8080/",
          "height": 431
        },
        "outputId": "94c9203c-f8a8-4f68-a1ee-8ae515d65f57"
      },
      "source": [
        "m1.asfreq(\"b\") #showing how woul it be to just consider business dates (Mond.-Frid.)"
      ],
      "execution_count": 34,
      "outputs": [
        {
          "output_type": "execute_result",
          "data": {
            "text/html": [
              "<div>\n",
              "<style scoped>\n",
              "    .dataframe tbody tr th:only-of-type {\n",
              "        vertical-align: middle;\n",
              "    }\n",
              "\n",
              "    .dataframe tbody tr th {\n",
              "        vertical-align: top;\n",
              "    }\n",
              "\n",
              "    .dataframe thead th {\n",
              "        text-align: right;\n",
              "    }\n",
              "</style>\n",
              "<table border=\"1\" class=\"dataframe\">\n",
              "  <thead>\n",
              "    <tr style=\"text-align: right;\">\n",
              "      <th></th>\n",
              "      <th>machineID</th>\n",
              "      <th>volt</th>\n",
              "      <th>rotate</th>\n",
              "      <th>pressure</th>\n",
              "      <th>vibration</th>\n",
              "    </tr>\n",
              "    <tr>\n",
              "      <th>datetime</th>\n",
              "      <th></th>\n",
              "      <th></th>\n",
              "      <th></th>\n",
              "      <th></th>\n",
              "      <th></th>\n",
              "    </tr>\n",
              "  </thead>\n",
              "  <tbody>\n",
              "    <tr>\n",
              "      <th>2015-01-01 06:00:00</th>\n",
              "      <td>1</td>\n",
              "      <td>176.217853</td>\n",
              "      <td>418.504078</td>\n",
              "      <td>113.077935</td>\n",
              "      <td>45.087686</td>\n",
              "    </tr>\n",
              "    <tr>\n",
              "      <th>2015-01-02 06:00:00</th>\n",
              "      <td>1</td>\n",
              "      <td>165.967847</td>\n",
              "      <td>504.900773</td>\n",
              "      <td>96.208954</td>\n",
              "      <td>36.841560</td>\n",
              "    </tr>\n",
              "    <tr>\n",
              "      <th>2015-01-05 06:00:00</th>\n",
              "      <td>1</td>\n",
              "      <td>158.224742</td>\n",
              "      <td>449.473860</td>\n",
              "      <td>77.044637</td>\n",
              "      <td>37.576166</td>\n",
              "    </tr>\n",
              "    <tr>\n",
              "      <th>2015-01-06 06:00:00</th>\n",
              "      <td>1</td>\n",
              "      <td>177.249603</td>\n",
              "      <td>504.803836</td>\n",
              "      <td>93.350302</td>\n",
              "      <td>33.242495</td>\n",
              "    </tr>\n",
              "    <tr>\n",
              "      <th>2015-01-07 06:00:00</th>\n",
              "      <td>1</td>\n",
              "      <td>162.040193</td>\n",
              "      <td>423.996563</td>\n",
              "      <td>101.587536</td>\n",
              "      <td>35.669374</td>\n",
              "    </tr>\n",
              "    <tr>\n",
              "      <th>...</th>\n",
              "      <td>...</td>\n",
              "      <td>...</td>\n",
              "      <td>...</td>\n",
              "      <td>...</td>\n",
              "      <td>...</td>\n",
              "    </tr>\n",
              "    <tr>\n",
              "      <th>2015-12-28 06:00:00</th>\n",
              "      <td>1</td>\n",
              "      <td>180.331045</td>\n",
              "      <td>419.932181</td>\n",
              "      <td>110.422392</td>\n",
              "      <td>29.554339</td>\n",
              "    </tr>\n",
              "    <tr>\n",
              "      <th>2015-12-29 06:00:00</th>\n",
              "      <td>1</td>\n",
              "      <td>166.223267</td>\n",
              "      <td>531.455729</td>\n",
              "      <td>85.948154</td>\n",
              "      <td>43.032816</td>\n",
              "    </tr>\n",
              "    <tr>\n",
              "      <th>2015-12-30 06:00:00</th>\n",
              "      <td>1</td>\n",
              "      <td>164.551123</td>\n",
              "      <td>511.210126</td>\n",
              "      <td>104.743215</td>\n",
              "      <td>33.491277</td>\n",
              "    </tr>\n",
              "    <tr>\n",
              "      <th>2015-12-31 06:00:00</th>\n",
              "      <td>1</td>\n",
              "      <td>161.824870</td>\n",
              "      <td>478.753038</td>\n",
              "      <td>88.339840</td>\n",
              "      <td>41.674489</td>\n",
              "    </tr>\n",
              "    <tr>\n",
              "      <th>2016-01-01 06:00:00</th>\n",
              "      <td>1</td>\n",
              "      <td>191.873171</td>\n",
              "      <td>382.736626</td>\n",
              "      <td>100.893691</td>\n",
              "      <td>37.940220</td>\n",
              "    </tr>\n",
              "  </tbody>\n",
              "</table>\n",
              "<p>262 rows × 5 columns</p>\n",
              "</div>"
            ],
            "text/plain": [
              "                     machineID        volt      rotate    pressure  vibration\n",
              "datetime                                                                     \n",
              "2015-01-01 06:00:00          1  176.217853  418.504078  113.077935  45.087686\n",
              "2015-01-02 06:00:00          1  165.967847  504.900773   96.208954  36.841560\n",
              "2015-01-05 06:00:00          1  158.224742  449.473860   77.044637  37.576166\n",
              "2015-01-06 06:00:00          1  177.249603  504.803836   93.350302  33.242495\n",
              "2015-01-07 06:00:00          1  162.040193  423.996563  101.587536  35.669374\n",
              "...                        ...         ...         ...         ...        ...\n",
              "2015-12-28 06:00:00          1  180.331045  419.932181  110.422392  29.554339\n",
              "2015-12-29 06:00:00          1  166.223267  531.455729   85.948154  43.032816\n",
              "2015-12-30 06:00:00          1  164.551123  511.210126  104.743215  33.491277\n",
              "2015-12-31 06:00:00          1  161.824870  478.753038   88.339840  41.674489\n",
              "2016-01-01 06:00:00          1  191.873171  382.736626  100.893691  37.940220\n",
              "\n",
              "[262 rows x 5 columns]"
            ]
          },
          "metadata": {
            "tags": []
          },
          "execution_count": 34
        }
      ]
    },
    {
      "cell_type": "markdown",
      "metadata": {
        "id": "K9bpsIzle-xT"
      },
      "source": [
        "### Handling Missing Values"
      ]
    },
    {
      "cell_type": "code",
      "metadata": {
        "scrolled": true,
        "id": "8lwUu85Me-xT",
        "colab": {
          "base_uri": "https://localhost:8080/",
          "height": 431
        },
        "outputId": "233ccbd2-4643-4022-81c5-d80f580828e6"
      },
      "source": [
        "m1.isna()"
      ],
      "execution_count": 35,
      "outputs": [
        {
          "output_type": "execute_result",
          "data": {
            "text/html": [
              "<div>\n",
              "<style scoped>\n",
              "    .dataframe tbody tr th:only-of-type {\n",
              "        vertical-align: middle;\n",
              "    }\n",
              "\n",
              "    .dataframe tbody tr th {\n",
              "        vertical-align: top;\n",
              "    }\n",
              "\n",
              "    .dataframe thead th {\n",
              "        text-align: right;\n",
              "    }\n",
              "</style>\n",
              "<table border=\"1\" class=\"dataframe\">\n",
              "  <thead>\n",
              "    <tr style=\"text-align: right;\">\n",
              "      <th></th>\n",
              "      <th>machineID</th>\n",
              "      <th>volt</th>\n",
              "      <th>rotate</th>\n",
              "      <th>pressure</th>\n",
              "      <th>vibration</th>\n",
              "    </tr>\n",
              "    <tr>\n",
              "      <th>datetime</th>\n",
              "      <th></th>\n",
              "      <th></th>\n",
              "      <th></th>\n",
              "      <th></th>\n",
              "      <th></th>\n",
              "    </tr>\n",
              "  </thead>\n",
              "  <tbody>\n",
              "    <tr>\n",
              "      <th>2015-01-01 06:00:00</th>\n",
              "      <td>False</td>\n",
              "      <td>False</td>\n",
              "      <td>False</td>\n",
              "      <td>False</td>\n",
              "      <td>False</td>\n",
              "    </tr>\n",
              "    <tr>\n",
              "      <th>2015-01-01 07:00:00</th>\n",
              "      <td>False</td>\n",
              "      <td>False</td>\n",
              "      <td>False</td>\n",
              "      <td>False</td>\n",
              "      <td>False</td>\n",
              "    </tr>\n",
              "    <tr>\n",
              "      <th>2015-01-01 08:00:00</th>\n",
              "      <td>False</td>\n",
              "      <td>False</td>\n",
              "      <td>False</td>\n",
              "      <td>False</td>\n",
              "      <td>False</td>\n",
              "    </tr>\n",
              "    <tr>\n",
              "      <th>2015-01-01 09:00:00</th>\n",
              "      <td>False</td>\n",
              "      <td>False</td>\n",
              "      <td>False</td>\n",
              "      <td>False</td>\n",
              "      <td>False</td>\n",
              "    </tr>\n",
              "    <tr>\n",
              "      <th>2015-01-01 10:00:00</th>\n",
              "      <td>False</td>\n",
              "      <td>False</td>\n",
              "      <td>False</td>\n",
              "      <td>False</td>\n",
              "      <td>False</td>\n",
              "    </tr>\n",
              "    <tr>\n",
              "      <th>...</th>\n",
              "      <td>...</td>\n",
              "      <td>...</td>\n",
              "      <td>...</td>\n",
              "      <td>...</td>\n",
              "      <td>...</td>\n",
              "    </tr>\n",
              "    <tr>\n",
              "      <th>2016-01-01 02:00:00</th>\n",
              "      <td>False</td>\n",
              "      <td>False</td>\n",
              "      <td>False</td>\n",
              "      <td>False</td>\n",
              "      <td>False</td>\n",
              "    </tr>\n",
              "    <tr>\n",
              "      <th>2016-01-01 03:00:00</th>\n",
              "      <td>False</td>\n",
              "      <td>False</td>\n",
              "      <td>False</td>\n",
              "      <td>False</td>\n",
              "      <td>False</td>\n",
              "    </tr>\n",
              "    <tr>\n",
              "      <th>2016-01-01 04:00:00</th>\n",
              "      <td>False</td>\n",
              "      <td>False</td>\n",
              "      <td>False</td>\n",
              "      <td>False</td>\n",
              "      <td>False</td>\n",
              "    </tr>\n",
              "    <tr>\n",
              "      <th>2016-01-01 05:00:00</th>\n",
              "      <td>False</td>\n",
              "      <td>False</td>\n",
              "      <td>False</td>\n",
              "      <td>False</td>\n",
              "      <td>False</td>\n",
              "    </tr>\n",
              "    <tr>\n",
              "      <th>2016-01-01 06:00:00</th>\n",
              "      <td>False</td>\n",
              "      <td>False</td>\n",
              "      <td>False</td>\n",
              "      <td>False</td>\n",
              "      <td>False</td>\n",
              "    </tr>\n",
              "  </tbody>\n",
              "</table>\n",
              "<p>8761 rows × 5 columns</p>\n",
              "</div>"
            ],
            "text/plain": [
              "                     machineID   volt  rotate  pressure  vibration\n",
              "datetime                                                          \n",
              "2015-01-01 06:00:00      False  False   False     False      False\n",
              "2015-01-01 07:00:00      False  False   False     False      False\n",
              "2015-01-01 08:00:00      False  False   False     False      False\n",
              "2015-01-01 09:00:00      False  False   False     False      False\n",
              "2015-01-01 10:00:00      False  False   False     False      False\n",
              "...                        ...    ...     ...       ...        ...\n",
              "2016-01-01 02:00:00      False  False   False     False      False\n",
              "2016-01-01 03:00:00      False  False   False     False      False\n",
              "2016-01-01 04:00:00      False  False   False     False      False\n",
              "2016-01-01 05:00:00      False  False   False     False      False\n",
              "2016-01-01 06:00:00      False  False   False     False      False\n",
              "\n",
              "[8761 rows x 5 columns]"
            ]
          },
          "metadata": {
            "tags": []
          },
          "execution_count": 35
        }
      ]
    },
    {
      "cell_type": "code",
      "metadata": {
        "scrolled": true,
        "id": "6VdAUhdSe-xW",
        "colab": {
          "base_uri": "https://localhost:8080/"
        },
        "outputId": "4761aec5-ea8b-456d-d039-fcd40ad5c928"
      },
      "source": [
        "m1.isna().sum() #No missing numbers, urray!"
      ],
      "execution_count": 36,
      "outputs": [
        {
          "output_type": "execute_result",
          "data": {
            "text/plain": [
              "machineID    0\n",
              "volt         0\n",
              "rotate       0\n",
              "pressure     0\n",
              "vibration    0\n",
              "dtype: int64"
            ]
          },
          "metadata": {
            "tags": []
          },
          "execution_count": 36
        }
      ]
    },
    {
      "cell_type": "code",
      "metadata": {
        "id": "qlbJTI1Ie-xY"
      },
      "source": [
        "# df_comp"
      ],
      "execution_count": 37,
      "outputs": []
    },
    {
      "cell_type": "markdown",
      "metadata": {
        "id": "St_ohMqIpxv7"
      },
      "source": [
        "Using the fillna() function to fill missing values. \n",
        "+ Methods:\n",
        "  + ffill = forward filling, copies the following value\n",
        "  + bfill = back filling, copies the previous value\n",
        "+ Value: select a fixed value for all NaN"
      ]
    },
    {
      "cell_type": "code",
      "metadata": {
        "id": "W_LR8vE7e-xd"
      },
      "source": [
        "# df_comp.spx=df_comp.spx.fillna(method='ffill')"
      ],
      "execution_count": null,
      "outputs": []
    },
    {
      "cell_type": "code",
      "metadata": {
        "id": "Rf_4c1eQe-xf"
      },
      "source": [
        "# df_comp.isna().sum()"
      ],
      "execution_count": 38,
      "outputs": []
    },
    {
      "cell_type": "code",
      "metadata": {
        "id": "5rCv102Pe-xh"
      },
      "source": [
        "# df_comp.ftse=df_comp.ftse.fillna(method='bfill')"
      ],
      "execution_count": null,
      "outputs": []
    },
    {
      "cell_type": "code",
      "metadata": {
        "id": "UbDuqikWe-xi"
      },
      "source": [
        "# df_comp.dax=df_comp.dax.fillna(value = df_comp.dax.mean())"
      ],
      "execution_count": null,
      "outputs": []
    },
    {
      "cell_type": "code",
      "metadata": {
        "id": "7XEoTJuHvKS-"
      },
      "source": [
        "# df_comp.nikkei=df_comp.dax.fillna(method='bfill')"
      ],
      "execution_count": null,
      "outputs": []
    },
    {
      "cell_type": "code",
      "metadata": {
        "id": "Ks8mWzEFvO_6"
      },
      "source": [
        "# df_comp.isna().sum()"
      ],
      "execution_count": 39,
      "outputs": []
    },
    {
      "cell_type": "markdown",
      "metadata": {
        "id": "F5kztiDce-xl"
      },
      "source": [
        "### Simplifying the Dataset"
      ]
    },
    {
      "cell_type": "markdown",
      "metadata": {
        "id": "HfCvUJVOrVCG"
      },
      "source": [
        "In order to process faster, is better to only use the feature you are going to analyse each time. \n",
        "\n",
        "In the first cell, copying the feature of analysis in a generic variable such as metric, will help simplify and later, repeate the whole process with another variable by just changing the values of the metric feature. "
      ]
    },
    {
      "cell_type": "code",
      "metadata": {
        "id": "-cb5wv-We-xl"
      },
      "source": [
        "m1['metric'] = m1.volt"
      ],
      "execution_count": 41,
      "outputs": []
    },
    {
      "cell_type": "code",
      "metadata": {
        "id": "S7zsKQZke-xo",
        "colab": {
          "base_uri": "https://localhost:8080/",
          "height": 284
        },
        "outputId": "88eca15a-c1a6-4084-9624-030054018879"
      },
      "source": [
        "m1.describe()"
      ],
      "execution_count": 42,
      "outputs": [
        {
          "output_type": "execute_result",
          "data": {
            "text/html": [
              "<div>\n",
              "<style scoped>\n",
              "    .dataframe tbody tr th:only-of-type {\n",
              "        vertical-align: middle;\n",
              "    }\n",
              "\n",
              "    .dataframe tbody tr th {\n",
              "        vertical-align: top;\n",
              "    }\n",
              "\n",
              "    .dataframe thead th {\n",
              "        text-align: right;\n",
              "    }\n",
              "</style>\n",
              "<table border=\"1\" class=\"dataframe\">\n",
              "  <thead>\n",
              "    <tr style=\"text-align: right;\">\n",
              "      <th></th>\n",
              "      <th>machineID</th>\n",
              "      <th>volt</th>\n",
              "      <th>rotate</th>\n",
              "      <th>pressure</th>\n",
              "      <th>vibration</th>\n",
              "      <th>metric</th>\n",
              "    </tr>\n",
              "  </thead>\n",
              "  <tbody>\n",
              "    <tr>\n",
              "      <th>count</th>\n",
              "      <td>8761.0</td>\n",
              "      <td>8761.000000</td>\n",
              "      <td>8761.000000</td>\n",
              "      <td>8761.000000</td>\n",
              "      <td>8761.000000</td>\n",
              "      <td>8761.000000</td>\n",
              "    </tr>\n",
              "    <tr>\n",
              "      <th>mean</th>\n",
              "      <td>1.0</td>\n",
              "      <td>170.833898</td>\n",
              "      <td>446.336502</td>\n",
              "      <td>100.668306</td>\n",
              "      <td>40.586309</td>\n",
              "      <td>170.833898</td>\n",
              "    </tr>\n",
              "    <tr>\n",
              "      <th>std</th>\n",
              "      <td>0.0</td>\n",
              "      <td>15.314388</td>\n",
              "      <td>52.224261</td>\n",
              "      <td>10.860264</td>\n",
              "      <td>5.542143</td>\n",
              "      <td>15.314388</td>\n",
              "    </tr>\n",
              "    <tr>\n",
              "      <th>min</th>\n",
              "      <td>1.0</td>\n",
              "      <td>119.059047</td>\n",
              "      <td>215.619476</td>\n",
              "      <td>58.733724</td>\n",
              "      <td>22.666865</td>\n",
              "      <td>119.059047</td>\n",
              "    </tr>\n",
              "    <tr>\n",
              "      <th>25%</th>\n",
              "      <td>1.0</td>\n",
              "      <td>160.382124</td>\n",
              "      <td>412.348209</td>\n",
              "      <td>93.320867</td>\n",
              "      <td>36.847203</td>\n",
              "      <td>160.382124</td>\n",
              "    </tr>\n",
              "    <tr>\n",
              "      <th>50%</th>\n",
              "      <td>1.0</td>\n",
              "      <td>170.618459</td>\n",
              "      <td>447.704679</td>\n",
              "      <td>100.319242</td>\n",
              "      <td>40.417442</td>\n",
              "      <td>170.618459</td>\n",
              "    </tr>\n",
              "    <tr>\n",
              "      <th>75%</th>\n",
              "      <td>1.0</td>\n",
              "      <td>180.929341</td>\n",
              "      <td>481.358342</td>\n",
              "      <td>107.377475</td>\n",
              "      <td>44.004311</td>\n",
              "      <td>180.929341</td>\n",
              "    </tr>\n",
              "    <tr>\n",
              "      <th>max</th>\n",
              "      <td>1.0</td>\n",
              "      <td>237.938518</td>\n",
              "      <td>636.364569</td>\n",
              "      <td>155.257527</td>\n",
              "      <td>67.633435</td>\n",
              "      <td>237.938518</td>\n",
              "    </tr>\n",
              "  </tbody>\n",
              "</table>\n",
              "</div>"
            ],
            "text/plain": [
              "       machineID         volt  ...    vibration       metric\n",
              "count     8761.0  8761.000000  ...  8761.000000  8761.000000\n",
              "mean         1.0   170.833898  ...    40.586309   170.833898\n",
              "std          0.0    15.314388  ...     5.542143    15.314388\n",
              "min          1.0   119.059047  ...    22.666865   119.059047\n",
              "25%          1.0   160.382124  ...    36.847203   160.382124\n",
              "50%          1.0   170.618459  ...    40.417442   170.618459\n",
              "75%          1.0   180.929341  ...    44.004311   180.929341\n",
              "max          1.0   237.938518  ...    67.633435   237.938518\n",
              "\n",
              "[8 rows x 6 columns]"
            ]
          },
          "metadata": {
            "tags": []
          },
          "execution_count": 42
        }
      ]
    },
    {
      "cell_type": "code",
      "metadata": {
        "id": "q1T9K24Ze-xq"
      },
      "source": [
        "del m1['volt']"
      ],
      "execution_count": 43,
      "outputs": []
    },
    {
      "cell_type": "code",
      "metadata": {
        "id": "LHLhvsEDe-xs",
        "colab": {
          "base_uri": "https://localhost:8080/",
          "height": 284
        },
        "outputId": "5d7e66ad-04c9-48ad-a355-f8d149bd6971"
      },
      "source": [
        "m1.describe()"
      ],
      "execution_count": 45,
      "outputs": [
        {
          "output_type": "execute_result",
          "data": {
            "text/html": [
              "<div>\n",
              "<style scoped>\n",
              "    .dataframe tbody tr th:only-of-type {\n",
              "        vertical-align: middle;\n",
              "    }\n",
              "\n",
              "    .dataframe tbody tr th {\n",
              "        vertical-align: top;\n",
              "    }\n",
              "\n",
              "    .dataframe thead th {\n",
              "        text-align: right;\n",
              "    }\n",
              "</style>\n",
              "<table border=\"1\" class=\"dataframe\">\n",
              "  <thead>\n",
              "    <tr style=\"text-align: right;\">\n",
              "      <th></th>\n",
              "      <th>machineID</th>\n",
              "      <th>rotate</th>\n",
              "      <th>pressure</th>\n",
              "      <th>vibration</th>\n",
              "      <th>metric</th>\n",
              "    </tr>\n",
              "  </thead>\n",
              "  <tbody>\n",
              "    <tr>\n",
              "      <th>count</th>\n",
              "      <td>8761.0</td>\n",
              "      <td>8761.000000</td>\n",
              "      <td>8761.000000</td>\n",
              "      <td>8761.000000</td>\n",
              "      <td>8761.000000</td>\n",
              "    </tr>\n",
              "    <tr>\n",
              "      <th>mean</th>\n",
              "      <td>1.0</td>\n",
              "      <td>446.336502</td>\n",
              "      <td>100.668306</td>\n",
              "      <td>40.586309</td>\n",
              "      <td>170.833898</td>\n",
              "    </tr>\n",
              "    <tr>\n",
              "      <th>std</th>\n",
              "      <td>0.0</td>\n",
              "      <td>52.224261</td>\n",
              "      <td>10.860264</td>\n",
              "      <td>5.542143</td>\n",
              "      <td>15.314388</td>\n",
              "    </tr>\n",
              "    <tr>\n",
              "      <th>min</th>\n",
              "      <td>1.0</td>\n",
              "      <td>215.619476</td>\n",
              "      <td>58.733724</td>\n",
              "      <td>22.666865</td>\n",
              "      <td>119.059047</td>\n",
              "    </tr>\n",
              "    <tr>\n",
              "      <th>25%</th>\n",
              "      <td>1.0</td>\n",
              "      <td>412.348209</td>\n",
              "      <td>93.320867</td>\n",
              "      <td>36.847203</td>\n",
              "      <td>160.382124</td>\n",
              "    </tr>\n",
              "    <tr>\n",
              "      <th>50%</th>\n",
              "      <td>1.0</td>\n",
              "      <td>447.704679</td>\n",
              "      <td>100.319242</td>\n",
              "      <td>40.417442</td>\n",
              "      <td>170.618459</td>\n",
              "    </tr>\n",
              "    <tr>\n",
              "      <th>75%</th>\n",
              "      <td>1.0</td>\n",
              "      <td>481.358342</td>\n",
              "      <td>107.377475</td>\n",
              "      <td>44.004311</td>\n",
              "      <td>180.929341</td>\n",
              "    </tr>\n",
              "    <tr>\n",
              "      <th>max</th>\n",
              "      <td>1.0</td>\n",
              "      <td>636.364569</td>\n",
              "      <td>155.257527</td>\n",
              "      <td>67.633435</td>\n",
              "      <td>237.938518</td>\n",
              "    </tr>\n",
              "  </tbody>\n",
              "</table>\n",
              "</div>"
            ],
            "text/plain": [
              "       machineID       rotate     pressure    vibration       metric\n",
              "count     8761.0  8761.000000  8761.000000  8761.000000  8761.000000\n",
              "mean         1.0   446.336502   100.668306    40.586309   170.833898\n",
              "std          0.0    52.224261    10.860264     5.542143    15.314388\n",
              "min          1.0   215.619476    58.733724    22.666865   119.059047\n",
              "25%          1.0   412.348209    93.320867    36.847203   160.382124\n",
              "50%          1.0   447.704679   100.319242    40.417442   170.618459\n",
              "75%          1.0   481.358342   107.377475    44.004311   180.929341\n",
              "max          1.0   636.364569   155.257527    67.633435   237.938518"
            ]
          },
          "metadata": {
            "tags": []
          },
          "execution_count": 45
        }
      ]
    },
    {
      "cell_type": "code",
      "metadata": {
        "id": "qDjArbqZe-xu",
        "colab": {
          "base_uri": "https://localhost:8080/",
          "height": 555
        },
        "outputId": "3ee6a500-e465-46a6-825f-b4d276f6c8f7"
      },
      "source": [
        "del m1[\"machineID\"]\n",
        "del m1['rotate']\n",
        "del m1['pressure']\n",
        "del m1['vibration']"
      ],
      "execution_count": 49,
      "outputs": [
        {
          "output_type": "error",
          "ename": "KeyError",
          "evalue": "ignored",
          "traceback": [
            "\u001b[0;31m---------------------------------------------------------------------------\u001b[0m",
            "\u001b[0;31mKeyError\u001b[0m                                  Traceback (most recent call last)",
            "\u001b[0;32m/usr/local/lib/python3.7/dist-packages/pandas/core/indexes/base.py\u001b[0m in \u001b[0;36mget_loc\u001b[0;34m(self, key, method, tolerance)\u001b[0m\n\u001b[1;32m   2897\u001b[0m             \u001b[0;32mtry\u001b[0m\u001b[0;34m:\u001b[0m\u001b[0;34m\u001b[0m\u001b[0;34m\u001b[0m\u001b[0m\n\u001b[0;32m-> 2898\u001b[0;31m                 \u001b[0;32mreturn\u001b[0m \u001b[0mself\u001b[0m\u001b[0;34m.\u001b[0m\u001b[0m_engine\u001b[0m\u001b[0;34m.\u001b[0m\u001b[0mget_loc\u001b[0m\u001b[0;34m(\u001b[0m\u001b[0mcasted_key\u001b[0m\u001b[0;34m)\u001b[0m\u001b[0;34m\u001b[0m\u001b[0;34m\u001b[0m\u001b[0m\n\u001b[0m\u001b[1;32m   2899\u001b[0m             \u001b[0;32mexcept\u001b[0m \u001b[0mKeyError\u001b[0m \u001b[0;32mas\u001b[0m \u001b[0merr\u001b[0m\u001b[0;34m:\u001b[0m\u001b[0;34m\u001b[0m\u001b[0;34m\u001b[0m\u001b[0m\n",
            "\u001b[0;32mpandas/_libs/index.pyx\u001b[0m in \u001b[0;36mpandas._libs.index.IndexEngine.get_loc\u001b[0;34m()\u001b[0m\n",
            "\u001b[0;32mpandas/_libs/index.pyx\u001b[0m in \u001b[0;36mpandas._libs.index.IndexEngine.get_loc\u001b[0;34m()\u001b[0m\n",
            "\u001b[0;32mpandas/_libs/hashtable_class_helper.pxi\u001b[0m in \u001b[0;36mpandas._libs.hashtable.PyObjectHashTable.get_item\u001b[0;34m()\u001b[0m\n",
            "\u001b[0;32mpandas/_libs/hashtable_class_helper.pxi\u001b[0m in \u001b[0;36mpandas._libs.hashtable.PyObjectHashTable.get_item\u001b[0;34m()\u001b[0m\n",
            "\u001b[0;31mKeyError\u001b[0m: 'rotate'",
            "\nThe above exception was the direct cause of the following exception:\n",
            "\u001b[0;31mKeyError\u001b[0m                                  Traceback (most recent call last)",
            "\u001b[0;32m<ipython-input-49-37212342543a>\u001b[0m in \u001b[0;36m<module>\u001b[0;34m()\u001b[0m\n\u001b[1;32m      1\u001b[0m \u001b[0;32mdel\u001b[0m \u001b[0mm1\u001b[0m\u001b[0;34m[\u001b[0m\u001b[0;34m\"machineID\"\u001b[0m\u001b[0;34m]\u001b[0m\u001b[0;34m\u001b[0m\u001b[0;34m\u001b[0m\u001b[0m\n\u001b[0;32m----> 2\u001b[0;31m \u001b[0;32mdel\u001b[0m \u001b[0mm1\u001b[0m\u001b[0;34m[\u001b[0m\u001b[0;34m'rotate'\u001b[0m\u001b[0;34m]\u001b[0m\u001b[0;34m\u001b[0m\u001b[0;34m\u001b[0m\u001b[0m\n\u001b[0m\u001b[1;32m      3\u001b[0m \u001b[0;32mdel\u001b[0m \u001b[0mm1\u001b[0m\u001b[0;34m[\u001b[0m\u001b[0;34m'pressure'\u001b[0m\u001b[0;34m]\u001b[0m\u001b[0;34m\u001b[0m\u001b[0;34m\u001b[0m\u001b[0m\n\u001b[1;32m      4\u001b[0m \u001b[0;32mdel\u001b[0m \u001b[0mm1\u001b[0m\u001b[0;34m[\u001b[0m\u001b[0;34m'vibration'\u001b[0m\u001b[0;34m]\u001b[0m\u001b[0;34m\u001b[0m\u001b[0;34m\u001b[0m\u001b[0m\n",
            "\u001b[0;32m/usr/local/lib/python3.7/dist-packages/pandas/core/generic.py\u001b[0m in \u001b[0;36m__delitem__\u001b[0;34m(self, key)\u001b[0m\n\u001b[1;32m   3711\u001b[0m             \u001b[0;31m# there was no match, this call should raise the appropriate\u001b[0m\u001b[0;34m\u001b[0m\u001b[0;34m\u001b[0m\u001b[0;34m\u001b[0m\u001b[0m\n\u001b[1;32m   3712\u001b[0m             \u001b[0;31m# exception:\u001b[0m\u001b[0;34m\u001b[0m\u001b[0;34m\u001b[0m\u001b[0;34m\u001b[0m\u001b[0m\n\u001b[0;32m-> 3713\u001b[0;31m             \u001b[0mloc\u001b[0m \u001b[0;34m=\u001b[0m \u001b[0mself\u001b[0m\u001b[0;34m.\u001b[0m\u001b[0maxes\u001b[0m\u001b[0;34m[\u001b[0m\u001b[0;34m-\u001b[0m\u001b[0;36m1\u001b[0m\u001b[0;34m]\u001b[0m\u001b[0;34m.\u001b[0m\u001b[0mget_loc\u001b[0m\u001b[0;34m(\u001b[0m\u001b[0mkey\u001b[0m\u001b[0;34m)\u001b[0m\u001b[0;34m\u001b[0m\u001b[0;34m\u001b[0m\u001b[0m\n\u001b[0m\u001b[1;32m   3714\u001b[0m             \u001b[0mself\u001b[0m\u001b[0;34m.\u001b[0m\u001b[0m_mgr\u001b[0m\u001b[0;34m.\u001b[0m\u001b[0midelete\u001b[0m\u001b[0;34m(\u001b[0m\u001b[0mloc\u001b[0m\u001b[0;34m)\u001b[0m\u001b[0;34m\u001b[0m\u001b[0;34m\u001b[0m\u001b[0m\n\u001b[1;32m   3715\u001b[0m \u001b[0;34m\u001b[0m\u001b[0m\n",
            "\u001b[0;32m/usr/local/lib/python3.7/dist-packages/pandas/core/indexes/base.py\u001b[0m in \u001b[0;36mget_loc\u001b[0;34m(self, key, method, tolerance)\u001b[0m\n\u001b[1;32m   2898\u001b[0m                 \u001b[0;32mreturn\u001b[0m \u001b[0mself\u001b[0m\u001b[0;34m.\u001b[0m\u001b[0m_engine\u001b[0m\u001b[0;34m.\u001b[0m\u001b[0mget_loc\u001b[0m\u001b[0;34m(\u001b[0m\u001b[0mcasted_key\u001b[0m\u001b[0;34m)\u001b[0m\u001b[0;34m\u001b[0m\u001b[0;34m\u001b[0m\u001b[0m\n\u001b[1;32m   2899\u001b[0m             \u001b[0;32mexcept\u001b[0m \u001b[0mKeyError\u001b[0m \u001b[0;32mas\u001b[0m \u001b[0merr\u001b[0m\u001b[0;34m:\u001b[0m\u001b[0;34m\u001b[0m\u001b[0;34m\u001b[0m\u001b[0m\n\u001b[0;32m-> 2900\u001b[0;31m                 \u001b[0;32mraise\u001b[0m \u001b[0mKeyError\u001b[0m\u001b[0;34m(\u001b[0m\u001b[0mkey\u001b[0m\u001b[0;34m)\u001b[0m \u001b[0;32mfrom\u001b[0m \u001b[0merr\u001b[0m\u001b[0;34m\u001b[0m\u001b[0;34m\u001b[0m\u001b[0m\n\u001b[0m\u001b[1;32m   2901\u001b[0m \u001b[0;34m\u001b[0m\u001b[0m\n\u001b[1;32m   2902\u001b[0m         \u001b[0;32mif\u001b[0m \u001b[0mtolerance\u001b[0m \u001b[0;32mis\u001b[0m \u001b[0;32mnot\u001b[0m \u001b[0;32mNone\u001b[0m\u001b[0;34m:\u001b[0m\u001b[0;34m\u001b[0m\u001b[0;34m\u001b[0m\u001b[0m\n",
            "\u001b[0;31mKeyError\u001b[0m: 'rotate'"
          ]
        }
      ]
    },
    {
      "cell_type": "code",
      "metadata": {
        "id": "U3JGOKDhe-xv",
        "colab": {
          "base_uri": "https://localhost:8080/",
          "height": 284
        },
        "outputId": "936f08f8-cc13-4f39-e8f8-7d4ec95c8d07"
      },
      "source": [
        "m1.describe()"
      ],
      "execution_count": 48,
      "outputs": [
        {
          "output_type": "execute_result",
          "data": {
            "text/html": [
              "<div>\n",
              "<style scoped>\n",
              "    .dataframe tbody tr th:only-of-type {\n",
              "        vertical-align: middle;\n",
              "    }\n",
              "\n",
              "    .dataframe tbody tr th {\n",
              "        vertical-align: top;\n",
              "    }\n",
              "\n",
              "    .dataframe thead th {\n",
              "        text-align: right;\n",
              "    }\n",
              "</style>\n",
              "<table border=\"1\" class=\"dataframe\">\n",
              "  <thead>\n",
              "    <tr style=\"text-align: right;\">\n",
              "      <th></th>\n",
              "      <th>machineID</th>\n",
              "      <th>metric</th>\n",
              "    </tr>\n",
              "  </thead>\n",
              "  <tbody>\n",
              "    <tr>\n",
              "      <th>count</th>\n",
              "      <td>8761.0</td>\n",
              "      <td>8761.000000</td>\n",
              "    </tr>\n",
              "    <tr>\n",
              "      <th>mean</th>\n",
              "      <td>1.0</td>\n",
              "      <td>170.833898</td>\n",
              "    </tr>\n",
              "    <tr>\n",
              "      <th>std</th>\n",
              "      <td>0.0</td>\n",
              "      <td>15.314388</td>\n",
              "    </tr>\n",
              "    <tr>\n",
              "      <th>min</th>\n",
              "      <td>1.0</td>\n",
              "      <td>119.059047</td>\n",
              "    </tr>\n",
              "    <tr>\n",
              "      <th>25%</th>\n",
              "      <td>1.0</td>\n",
              "      <td>160.382124</td>\n",
              "    </tr>\n",
              "    <tr>\n",
              "      <th>50%</th>\n",
              "      <td>1.0</td>\n",
              "      <td>170.618459</td>\n",
              "    </tr>\n",
              "    <tr>\n",
              "      <th>75%</th>\n",
              "      <td>1.0</td>\n",
              "      <td>180.929341</td>\n",
              "    </tr>\n",
              "    <tr>\n",
              "      <th>max</th>\n",
              "      <td>1.0</td>\n",
              "      <td>237.938518</td>\n",
              "    </tr>\n",
              "  </tbody>\n",
              "</table>\n",
              "</div>"
            ],
            "text/plain": [
              "       machineID       metric\n",
              "count     8761.0  8761.000000\n",
              "mean         1.0   170.833898\n",
              "std          0.0    15.314388\n",
              "min          1.0   119.059047\n",
              "25%          1.0   160.382124\n",
              "50%          1.0   170.618459\n",
              "75%          1.0   180.929341\n",
              "max          1.0   237.938518"
            ]
          },
          "metadata": {
            "tags": []
          },
          "execution_count": 48
        }
      ]
    },
    {
      "cell_type": "markdown",
      "metadata": {
        "id": "gfvFF4xSe-xx"
      },
      "source": [
        "### Splitting the Data"
      ]
    },
    {
      "cell_type": "markdown",
      "metadata": {
        "id": "yZaJ682asupU"
      },
      "source": [
        "Time series data requires of a cronologic order. Thats way we can't shuffle the set of data before the split. Hence, in this case we have to select an specific time where the previous data is the trainign and the test is the rest(future)."
      ]
    },
    {
      "cell_type": "code",
      "metadata": {
        "id": "pVXM1yGIe-xy",
        "colab": {
          "base_uri": "https://localhost:8080/"
        },
        "outputId": "df1abbc4-a972-407f-df48-af6a1f1bafd7"
      },
      "source": [
        "size = int(len(m1)*0.8)\n",
        "size"
      ],
      "execution_count": 50,
      "outputs": [
        {
          "output_type": "execute_result",
          "data": {
            "text/plain": [
              "7008"
            ]
          },
          "metadata": {
            "tags": []
          },
          "execution_count": 50
        }
      ]
    },
    {
      "cell_type": "code",
      "metadata": {
        "id": "H6jm0Mshe-x0"
      },
      "source": [
        "df = m1.iloc[:size]"
      ],
      "execution_count": 51,
      "outputs": []
    },
    {
      "cell_type": "code",
      "metadata": {
        "id": "kx2KRWURe-x2"
      },
      "source": [
        "df_test = m1.iloc[size:]    "
      ],
      "execution_count": 52,
      "outputs": []
    },
    {
      "cell_type": "code",
      "metadata": {
        "id": "u7a_ht1ne-x4",
        "colab": {
          "base_uri": "https://localhost:8080/",
          "height": 225
        },
        "outputId": "a065a89d-6695-413e-861e-aa14289eeb4e"
      },
      "source": [
        "df.tail()"
      ],
      "execution_count": 53,
      "outputs": [
        {
          "output_type": "execute_result",
          "data": {
            "text/html": [
              "<div>\n",
              "<style scoped>\n",
              "    .dataframe tbody tr th:only-of-type {\n",
              "        vertical-align: middle;\n",
              "    }\n",
              "\n",
              "    .dataframe tbody tr th {\n",
              "        vertical-align: top;\n",
              "    }\n",
              "\n",
              "    .dataframe thead th {\n",
              "        text-align: right;\n",
              "    }\n",
              "</style>\n",
              "<table border=\"1\" class=\"dataframe\">\n",
              "  <thead>\n",
              "    <tr style=\"text-align: right;\">\n",
              "      <th></th>\n",
              "      <th>metric</th>\n",
              "    </tr>\n",
              "    <tr>\n",
              "      <th>datetime</th>\n",
              "      <th></th>\n",
              "    </tr>\n",
              "  </thead>\n",
              "  <tbody>\n",
              "    <tr>\n",
              "      <th>2015-10-20 01:00:00</th>\n",
              "      <td>147.372275</td>\n",
              "    </tr>\n",
              "    <tr>\n",
              "      <th>2015-10-20 02:00:00</th>\n",
              "      <td>158.555165</td>\n",
              "    </tr>\n",
              "    <tr>\n",
              "      <th>2015-10-20 03:00:00</th>\n",
              "      <td>224.271598</td>\n",
              "    </tr>\n",
              "    <tr>\n",
              "      <th>2015-10-20 04:00:00</th>\n",
              "      <td>165.211962</td>\n",
              "    </tr>\n",
              "    <tr>\n",
              "      <th>2015-10-20 05:00:00</th>\n",
              "      <td>194.168896</td>\n",
              "    </tr>\n",
              "  </tbody>\n",
              "</table>\n",
              "</div>"
            ],
            "text/plain": [
              "                         metric\n",
              "datetime                       \n",
              "2015-10-20 01:00:00  147.372275\n",
              "2015-10-20 02:00:00  158.555165\n",
              "2015-10-20 03:00:00  224.271598\n",
              "2015-10-20 04:00:00  165.211962\n",
              "2015-10-20 05:00:00  194.168896"
            ]
          },
          "metadata": {
            "tags": []
          },
          "execution_count": 53
        }
      ]
    },
    {
      "cell_type": "code",
      "metadata": {
        "id": "WFxgN3coe-x6",
        "colab": {
          "base_uri": "https://localhost:8080/",
          "height": 225
        },
        "outputId": "aa80049e-0714-4b8c-c63d-1687d12551b8"
      },
      "source": [
        "df_test.head()"
      ],
      "execution_count": 54,
      "outputs": [
        {
          "output_type": "execute_result",
          "data": {
            "text/html": [
              "<div>\n",
              "<style scoped>\n",
              "    .dataframe tbody tr th:only-of-type {\n",
              "        vertical-align: middle;\n",
              "    }\n",
              "\n",
              "    .dataframe tbody tr th {\n",
              "        vertical-align: top;\n",
              "    }\n",
              "\n",
              "    .dataframe thead th {\n",
              "        text-align: right;\n",
              "    }\n",
              "</style>\n",
              "<table border=\"1\" class=\"dataframe\">\n",
              "  <thead>\n",
              "    <tr style=\"text-align: right;\">\n",
              "      <th></th>\n",
              "      <th>metric</th>\n",
              "    </tr>\n",
              "    <tr>\n",
              "      <th>datetime</th>\n",
              "      <th></th>\n",
              "    </tr>\n",
              "  </thead>\n",
              "  <tbody>\n",
              "    <tr>\n",
              "      <th>2015-10-20 06:00:00</th>\n",
              "      <td>149.753524</td>\n",
              "    </tr>\n",
              "    <tr>\n",
              "      <th>2015-10-20 07:00:00</th>\n",
              "      <td>191.552953</td>\n",
              "    </tr>\n",
              "    <tr>\n",
              "      <th>2015-10-20 08:00:00</th>\n",
              "      <td>159.923512</td>\n",
              "    </tr>\n",
              "    <tr>\n",
              "      <th>2015-10-20 09:00:00</th>\n",
              "      <td>153.483418</td>\n",
              "    </tr>\n",
              "    <tr>\n",
              "      <th>2015-10-20 10:00:00</th>\n",
              "      <td>158.075270</td>\n",
              "    </tr>\n",
              "  </tbody>\n",
              "</table>\n",
              "</div>"
            ],
            "text/plain": [
              "                         metric\n",
              "datetime                       \n",
              "2015-10-20 06:00:00  149.753524\n",
              "2015-10-20 07:00:00  191.552953\n",
              "2015-10-20 08:00:00  159.923512\n",
              "2015-10-20 09:00:00  153.483418\n",
              "2015-10-20 10:00:00  158.075270"
            ]
          },
          "metadata": {
            "tags": []
          },
          "execution_count": 54
        }
      ]
    }
  ]
}